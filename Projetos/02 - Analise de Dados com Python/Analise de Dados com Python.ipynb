{
 "cells": [
  {
   "cell_type": "markdown",
   "id": "e9e7bee8",
   "metadata": {},
   "source": [
    "# Análise de Dados com Python\n",
    "\n",
    "### Desafio:\n",
    "\n",
    "Você trabalha em uma empresa do varejo e tem milhares de clientes diferentes.\n",
    "\n",
    "Com o objetivo de aumentar o faturamento e o lucro da sua empresa, a diretoria quer conseguir identificar quem é o cliente ideal para seus produtos, baseado no histórico de compras dos clientes.\n",
    "\n",
    "Para isso, ela fez um trabalho de classificar os clientes com uma nota de 1 a 100. Só que agora, sobrou para você conseguir, a partir dessa nota, descobrir qual o perfil de cliente ideal da empresa.\n",
    "\n",
    "Qual a profissão? Qual a idade? Qual a faixa de renda? E todas as informações que você puder analisar para dizer qual o cliente ideal da empresa.\n",
    "\n",
    "Base de Dados: https://drive.google.com/drive/folders/1T7D0BlWkNuy_MDpUHuBG44kT80EmRYIs?usp=share_link"
   ]
  },
  {
   "cell_type": "code",
   "execution_count": null,
   "id": "3b79c8b2",
   "metadata": {},
   "outputs": [],
   "source": [
    "#passo a passo\n",
    "\n",
    "#passo 1 : Importar a base de dados\n",
    "#passo 2: Visualizar a base de dados\n",
    "    #Entender as informações disponíveis\n",
    "    #Procurar possíveis erros\n",
    "#passo 3: Tratamento de dados\n",
    "    #deleter colunas inúteis\n",
    "    #consertar informações que estão sendo reconhecidas de forma errada\n",
    "    #corrigir informações vazias\n",
    "    \n",
    "#passo 4: Analise Inicial -> Entender as notas dos clientes\n",
    "#passo 5: Analise Completa -> Entender como cada característica do cliente impacta na nota "
   ]
  },
  {
   "cell_type": "code",
   "execution_count": null,
   "id": "3cae4d38",
   "metadata": {},
   "outputs": [],
   "source": [
    "import pandas as pd\n",
    "import plotly.express as px"
   ]
  },
  {
   "cell_type": "code",
   "execution_count": null,
   "id": "9c64e04d",
   "metadata": {},
   "outputs": [],
   "source": [
    "#importando e visualizando a tabela de dados\n",
    "tabela = pd.read_csv(\"clientes.csv\", encoding= \"latin\", sep =\";\")\n",
    "display(tabela)\n"
   ]
  },
  {
   "cell_type": "code",
   "execution_count": null,
   "id": "6a6d538a",
   "metadata": {},
   "outputs": [],
   "source": [
    "#tratando a tabela\n",
    "# axis = 0 - se for linha ; axis = 1 - se for coluna\n",
    "tabela = tabela.drop(\"Unnamed: 8\",axis= 1)\n",
    "display(tabela)\n",
    "\n",
    "#analisando os tipos\n",
    "tabela.info()\n"
   ]
  },
  {
   "cell_type": "code",
   "execution_count": null,
   "id": "a050d2ea",
   "metadata": {},
   "outputs": [],
   "source": [
    "#tratando as informações com formatações erradas\n",
    "tabela[\"Salário Anual (R$)\"] = pd.to_numeric(tabela[\"Salário Anual (R$)\"], errors= \"coerce\")\n",
    "\n",
    "#corrigindo as informações vazias \n",
    "tabela = tabela.dropna()\n",
    "tabela.info()"
   ]
  },
  {
   "cell_type": "code",
   "execution_count": null,
   "id": "d730b65d",
   "metadata": {},
   "outputs": [],
   "source": [
    "#Analises Inicias\n",
    "display(tabela.describe())"
   ]
  },
  {
   "cell_type": "code",
   "execution_count": null,
   "id": "83044895",
   "metadata": {},
   "outputs": [],
   "source": [
    "coluna = 100\n",
    "for coluna in tabela.columns: \n",
    "    #cria grafico\n",
    "    grafico = px.histogram(tabela,x=coluna,y=\"Nota (1-100)\", histfunc=\"avg\", text_auto=True)\n",
    "    # exibe o grafico\n",
    "    grafico.show()"
   ]
  },
  {
   "cell_type": "code",
   "execution_count": null,
   "id": "fec38dcb",
   "metadata": {},
   "outputs": [],
   "source": [
    "# Perfil ideial de clientes\n",
    "# Acima de 9 anos, preferencialmente apartir de 15 anos (não tem muita diferença entre as faixas etárias)\n",
    "# Faixa salarial não parece fazer muita diferença\n",
    "# Melhores áreas: Entretenimento e Artista (Evitar Construção)\n",
    "# Tem entre 10 e 15 anos de experiência\n",
    "# Com famílias não tao grande (com até no maáx. 7 pessoas)"
   ]
  }
 ],
 "metadata": {
  "kernelspec": {
   "display_name": "Python 3 (ipykernel)",
   "language": "python",
   "name": "python3"
  },
  "language_info": {
   "codemirror_mode": {
    "name": "ipython",
    "version": 3
   },
   "file_extension": ".py",
   "mimetype": "text/x-python",
   "name": "python",
   "nbconvert_exporter": "python",
   "pygments_lexer": "ipython3",
   "version": "3.9.13"
  }
 },
 "nbformat": 4,
 "nbformat_minor": 5
}
